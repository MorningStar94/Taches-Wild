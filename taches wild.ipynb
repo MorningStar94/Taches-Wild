{
 "cells": [
  {
   "cell_type": "code",
   "execution_count": 1,
   "metadata": {},
   "outputs": [],
   "source": [
    "import pandas as pd\n",
    "import numpy as np\n",
    "import matplotlib.pyplot as plt\n",
    "from numpy import arange"
   ]
  },
  {
   "cell_type": "code",
   "execution_count": 2,
   "metadata": {
    "scrolled": true
   },
   "outputs": [
    {
     "name": "stdout",
     "output_type": "stream",
     "text": [
      "Combien de tâches avez-vous?4\n",
      "Tâche : Manger\n",
      "Importance entre de 0 à 5 : 2\n",
      "Tâche : Dormir\n",
      "Importance entre de 0 à 5 : 3\n",
      "Tâche : Boire\n",
      "Importance entre de 0 à 5 : 4\n",
      "Tâche : Travailler\n",
      "Importance entre de 0 à 5 : 5\n"
     ]
    },
    {
     "data": {
      "image/png": "[encoded data removed]",
      "text/plain": [
       "<Figure size 432x288 with 1 Axes>"
      ]
     },
     "metadata": {
      "needs_background": "light"
     },
     "output_type": "display_data"
    },
    {
     "name": "stdout",
     "output_type": "stream",
     "text": [
      "Vous avez beaucoup de tâche de haute importance ! Au boulot!\n",
      "Il vous reste des tâches de toutes importances, pensez à prioriser !\n"
     ]
    }
   ],
   "source": [
    "name_cols = []\n",
    "num_rows = []\n",
    "y = int(input(\"Combien de tâches avez-vous?\"))\n",
    "\n",
    "for liste in range(y): # On créer une boucle afin de pouvoir lister differentes taches\n",
    "    to_do_list = str(input(\"Tâche : \")) # On permet via un bouton, d'entrée une tache dans une variable\n",
    "    name_cols.append(to_do_list) # On récupère la tâche qu'on inclus dans la liste de la variable name_cols[]\n",
    "    order_of_priority = int(input(\"Importance entre de 0 à 5 : \")) # On permet via un bouton, d'entré une notation de 0-5        \n",
    "    num_rows.append(order_of_priority) # On récupère la note qu'on inclus dans la liste de la variable num_rows[]\n",
    "   \n",
    "num_rows = np.asarray(num_rows)# On créer un tableau avec ma liste num_rows\n",
    "bar_widths = num_rows #Largeur des barres \n",
    "bar_positions = np.arange(len(name_cols))#On assigne les nom de tâches aux valeurs \n",
    "tick_positions = range(y)# On défini la valeur max de l'axe des abscisses \n",
    "fig, ax = plt.subplots() #On créer la figure\n",
    "ax.barh(bar_positions, bar_widths, 0.5) #On defini son contenant\n",
    "ax.set_yticks(tick_positions)# On défini l'axe des abscisses\n",
    "ax.set_yticklabels(name_cols)# On On defini ce qui va se trouver sur l'axe des abscisses\n",
    "ax.set_ylabel('Tâche')# On defini un nom d'axe\n",
    "ax.set_xlabel('Niveau de priorité')# On defini un nom d'axe\n",
    "ax.set_title('Priorité en fonction de la note')# On defini un titre pour l'histogramme\n",
    "plt.show()#On affiche l'histogramme\n",
    "\n",
    "moy =np.mean(num_rows)#On calcul la moyenne\n",
    "ecarttype=np.std(num_rows)#On calcul l'écart type\n",
    "\n",
    "if moy == 3:\n",
    "    print(\"Vous avez beaucoup de tâches de priorité moyenne\")\n",
    "elif moy > 3:\n",
    "    print(\"Vous avez beaucoup de tâche de haute importance ! Au boulot!\")\n",
    "else:\n",
    "    print(\"Il ne vous reste que des petites tâches\")\n",
    "if ecarttype > 1:\n",
    "    print(\"Il vous reste des tâches de toutes importances, pensez à prioriser !\")\n",
    "else:\n",
    "    print(\"Vos tâches sont principalement de la même priorité\")"
   ]
  },
  {
   "cell_type": "code",
   "execution_count": null,
   "metadata": {},
   "outputs": [],
   "source": []
  }
 ],
 "metadata": {
  "kernelspec": {
   "display_name": "Python 3",
   "language": "python",
   "name": "python3"
  },
  "language_info": {
   "codemirror_mode": {
    "name": "ipython",
    "version": 3
   },
   "file_extension": ".py",
   "mimetype": "text/x-python",
   "name": "python",
   "nbconvert_exporter": "python",
   "pygments_lexer": "ipython3",
   "version": "3.8.5"
  }
 },
 "nbformat": 4,
 "nbformat_minor": 4
}
